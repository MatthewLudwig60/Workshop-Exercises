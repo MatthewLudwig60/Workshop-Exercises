{
 "cells": [
  {
   "cell_type": "code",
   "execution_count": 333,
   "metadata": {},
   "outputs": [
    {
     "data": {
      "text/plain": [
       "'This program takes input crater image data for the Moon and an unknown body and estimates\\ncrater depth and diameter via simple image analysis. The code reads in the data into dataframes,\\nbefore defining a set of functions to calculate shadow length within each crater, and from that,\\nestimate crater depth, in addition to estimating crater diameter. The code uses a general unit test\\nto then validate that the functions, defined as above, are performing their intended role correctly.\\nThe code uses the apply method to pass each row of the dataframes, storing data for the Moon and\\nunknown body, as an array to the functions described above, appending their output as columns of the\\ndataframes. The code then estimates the error in the estimated values of crater depth and diameter on\\nthe Moon using a set of validated measurements imported from the Moon2.csv dataset. The error in these\\nestimated measurements for the unknown body is then inferred from the error in the estimated values for\\nthe Moon. Finally, a series of data plots and statistical analyses are performed on the datasets for\\nboth the Moon and the unknown body. \\n'"
      ]
     },
     "execution_count": 333,
     "metadata": {},
     "output_type": "execute_result"
    }
   ],
   "source": [
    "\"\"\"This program takes input crater image data for the Moon and an unknown body and estimates\n",
    "crater depth and diameter via simple image analysis. The code reads in the data into dataframes,\n",
    "before defining a set of functions to calculate shadow length within each crater, and from that,\n",
    "estimate crater depth, in addition to estimating crater diameter. The code uses a general unit test\n",
    "to then validate that the functions, defined as above, are performing their intended role correctly.\n",
    "The code uses the apply method to pass each row of the dataframes, storing data for the Moon and\n",
    "unknown body, as an array to the functions described above, appending their output as columns of the\n",
    "dataframes. The code then estimates the error in the estimated values of crater depth and diameter on\n",
    "the Moon using a set of validated measurements imported from the Moon2.csv dataset. The error in these\n",
    "estimated measurements for the unknown body is then inferred from the error in the estimated values for\n",
    "the Moon. Finally, a series of data plots and statistical analyses are performed on the datasets for\n",
    "both the Moon and the unknown body. \n",
    "\"\"\""
   ]
  },
  {
   "cell_type": "code",
   "execution_count": 264,
   "metadata": {},
   "outputs": [],
   "source": [
    "import pandas as pd\n",
    "import numpy as np\n",
    "import matplotlib.pyplot as plt\n",
    "import scipy.stats as ss\n",
    "from inspect import signature\n",
    "#Imports the necessary modules and abbreviates them "
   ]
  },
  {
   "cell_type": "markdown",
   "metadata": {},
   "source": [
    "# Data Initialisation"
   ]
  },
  {
   "cell_type": "code",
   "execution_count": 265,
   "metadata": {},
   "outputs": [],
   "source": [
    "datamoon1 = pd.read_csv('Moon1.csv')\n",
    "datamoon2 = pd.read_csv('Moon2.csv')\n",
    "databody1 = pd.read_csv('Body1.csv') \n",
    "#Imports the comma-separated data files as dataframes using the pandas module and assigns them to variables"
   ]
  },
  {
   "cell_type": "code",
   "execution_count": 266,
   "metadata": {},
   "outputs": [],
   "source": [
    "def shadow(array, scale_factor): \n",
    "    #Defines a function to calculate shadow length in metres, takes an array (a row of the dataframe) and a scale factor (the pixel to metre ratio for images of each body) as its arguments \n",
    "    ydiameter = array[3]\n",
    "    xdiameter = array[2]\n",
    "    shadow_pixels = array[1] \n",
    "    #Sets the value of the crater dimensions and shadow length to elements of the array passed to the function\n",
    "    if ydiameter > xdiameter: \n",
    "        #If the y diameter is greater than the x diameter, the shadow is scaled up to match the y diameter to remove image squashing due to the curvature of the spherical body's surface\n",
    "        shadow_metres = (ydiameter/xdiameter)*shadow_pixels*scale_factor\n",
    "    else:\n",
    "        shadow_metres = shadow_pixels*scale_factor \n",
    "        #Shadow length in metres is calculated by multiplying shadow length in pixels by the pixel to metres conversion factor\n",
    "    return(shadow_metres) \n",
    "    #function returns shadow length in metres"
   ]
  },
  {
   "cell_type": "code",
   "execution_count": 334,
   "metadata": {},
   "outputs": [],
   "source": [
    "def diameter(array, scale_factor): \n",
    "    #Defines a function to calculate crater diameter in metres, takes an array (a row of the dataframe) and a scale factor (the pixel to metre ratio for images of each body) as its arguments  \n",
    "    ydiameter = array[3]\n",
    "    xdiameter = array[2]\n",
    "    diameter = max(xdiameter, ydiameter)*scale_factor \n",
    "    #Sets the diameter in metres to the largest of the 2 diameter measurements, multiplied by the pixel to metres conversion factor\n",
    "    return(diameter) \n",
    "    #function returns crater diameter in metres"
   ]
  },
  {
   "cell_type": "code",
   "execution_count": 268,
   "metadata": {},
   "outputs": [],
   "source": [
    "def depth(array): \n",
    "    #Defines a function to calculate crater depth in metres, takes an array (a row of the dataframe) as its argument\n",
    "    shadow_length = array[4] \n",
    "    #Sets shadow length to the value in metres which has already been calculated for this row \n",
    "    theta = array[0] \n",
    "    #Sets theta to the first element of the array\n",
    "    depth = shadow_length*np.tan(np.pi*(theta/180)) \n",
    "    #Calculates depth by multiplying shadow length in metres by tan(theta) where theta has been converted from degrees to radians\n",
    "    return(depth) \n",
    "    #function returns crater depth in metres"
   ]
  },
  {
   "cell_type": "code",
   "execution_count": 269,
   "metadata": {},
   "outputs": [],
   "source": [
    "def num_bins(data): \n",
    "    #Defines a function to calculate optimum number of bins for a histogram using the Freedman–Diaconis formula\n",
    "    q25, q75 = np.percentile(data,[25,75]) \n",
    "    #Takes the 25th and 75th percentiles of the dataset\n",
    "    bin_width = 2*(q75 - q25)*len(data)**(-1/3) \n",
    "    #Calculates optimum bin width using the formula width = (2(75th percentile - 25th percentile))/(no. datapoints^(1/3))\n",
    "    bins = int(round((data.max() - data.min())/bin_width)) \n",
    "    #Calculates number of bins by dividing data range by bin width and rounding to the nearest integer\n",
    "    return(bins) \n",
    "    #function returns optimum number of bins"
   ]
  },
  {
   "cell_type": "code",
   "execution_count": 270,
   "metadata": {},
   "outputs": [],
   "source": [
    "def trimean(array): \n",
    "    #Defines a function to calculate the trimean of a dataset\n",
    "    trimean = (np.percentile(array, 25) + 2*np.percentile(array, 50) + np.percentile(array, 75)) / 4\n",
    "    #Calculates trimean using the formula (25th percentile + 2*50th percentile + 75th percentile)/4\n",
    "    return(trimean) \n",
    "    #function returns trimean of dataset"
   ]
  },
  {
   "cell_type": "code",
   "execution_count": 271,
   "metadata": {},
   "outputs": [],
   "source": [
    "def MAD(array): \n",
    "    #Defines a function to calculate the median absolute deviation of a dataset\n",
    "    median = np.median(array) \n",
    "    #Takes the median of the dataset\n",
    "    data = np.zeros(len(array)) \n",
    "    #Creates an array of the same length as the dataset\n",
    "    for i in range(len(data)): \n",
    "        data[i] = abs(array[i] - median)\n",
    "        #Iterates through the dataset taking the magnitude of each datapoint - the median and assigning it to the array of zeros\n",
    "    MAD = np.median(data) \n",
    "    #Takes the median of the array of the absolute deviations from the median\n",
    "    return(MAD) \n",
    "    #function returns the median absolute deviation"
   ]
  },
  {
   "cell_type": "code",
   "execution_count": 272,
   "metadata": {},
   "outputs": [],
   "source": [
    "def array_location(array): \n",
    "    #Defines a function to calculate 3 measures of central tendency for a dataset\n",
    "    Mean = np.mean(array)\n",
    "    Median = np.median(array)\n",
    "    Trimean = trimean(array)\n",
    "    return (Mean, Median, Trimean) \n",
    "    #function returns an array of the mean, median and trimean for the dataset"
   ]
  },
  {
   "cell_type": "code",
   "execution_count": 273,
   "metadata": {},
   "outputs": [],
   "source": [
    "def array_spread(array): \n",
    "    #Defines a function to calculate 3 measures of spread for a dataset\n",
    "    SD = np.std(array)\n",
    "    IQR = ss.iqr(array)\n",
    "    median = np.median(array)\n",
    "    Median_absolute_deviation = MAD(array)\n",
    "    return (SD, IQR, Median_absolute_deviation) \n",
    "    #function returns an array of the standard deviation, interquartile range and median absolute deviation for the dataset"
   ]
  },
  {
   "cell_type": "code",
   "execution_count": 335,
   "metadata": {},
   "outputs": [],
   "source": [
    "def asymmetric_error(array):\n",
    "    #Defines a function to generate asymmetric (one-sided) errors for the half error bars of the first visualisation\n",
    "    lower_error = np.zeros(len(array))\n",
    "    upper_error = np.zeros(len(array))\n",
    "    #Creates arrays to hold the lower and upper bound errors\n",
    "    for i in range(len(array)): \n",
    "        #iterates through input array of errors\n",
    "        if array[i] > 0:\n",
    "            lower_error[i] = 0\n",
    "            upper_error[i] = array[i]\n",
    "            #if error is positive, lower bound error is set to 0 and upper bound error is set to the error value\n",
    "        else:\n",
    "            lower_error[i] = array[i]\n",
    "            upper_error[i] = 0\n",
    "            #if error is 0 or negative, upper bound error is set to 0 and lower bound error is set to the error value\n",
    "    asymmetric_error = [lower_error, upper_error]\n",
    "    #Creates list containing arrays of lower bound and upper bound arrays\n",
    "    return(asymmetric_error)\n",
    "    #returns list"
   ]
  },
  {
   "cell_type": "markdown",
   "metadata": {},
   "source": [
    "## Function testing"
   ]
  },
  {
   "cell_type": "code",
   "execution_count": 338,
   "metadata": {},
   "outputs": [],
   "source": [
    "def test(test_function, test_array, known_answer): \n",
    "    #Defines a function to test one of the previously defined functions, using a test data array and the known desired output for the data from the function to be tested\n",
    "    sig = signature(test_function)\n",
    "    params = sig.parameters\n",
    "    #Creates an object holding the parameters of the test function\n",
    "    num_params = len(params)\n",
    "    #Finds the number of parameters to be passed to the test function \n",
    "    if num_params == 2: \n",
    "        #Tests if a parameter must be passed to the function, in addition to the array, ie the pixel scaling factor     \n",
    "        calculated_answer = test_function(test_array, 1) \n",
    "        #returns calculated output as the output of the function to be tested when passed the test input data (and a pixel scaling factor of 1)\n",
    "    else:\n",
    "        calculated_answer = test_function(test_array) \n",
    "        #returns calculated output as the output of the function to be tested when passed the test input data\n",
    "    if type(known_answer) == list:\n",
    "        #Tests if the test function outputs a list\n",
    "        error = 0\n",
    "        for i in range(len(known_answer)):\n",
    "            for j in range(len(known_answer[i])):\n",
    "                #Iterates through each subelement of each element of the list outputted by the test function\n",
    "                dummy = abs(calculated_answer[i][j] - known_answer[i][j])\n",
    "                if dummy > error:\n",
    "                    error = dummy\n",
    "                    #If the difference between a value of the calculated output list and the known output list is the largest error found thus far, the error is set to this value\n",
    "                    #Error is set to largest single error between a value of the calculated output list and the known output list\n",
    "    elif type(known_answer) == float or int:\n",
    "        #Tests if the test function outputs a float or int (ie a single value)\n",
    "        error = abs(calculated_answer - known_answer) \n",
    "        #takes the magnitude of the difference between the calculated output and the desired output as the error\n",
    "    if error<1e-5: \n",
    "        #If the error is less than 0.00001, the test is taken to be successful \n",
    "        print(f'Test was successful, known output was {known_answer} and calculated output was {calculated_answer}')\n",
    "    else: \n",
    "        #Otherwise, the test is taken to be a failure \n",
    "        print(f'Test was a failure, known output was {known_answer} and calculated output was {calculated_answer}')\n",
    "        #In both cases, a string prints showing the outcome of the test and the desired and calculated outputs"
   ]
  },
  {
   "cell_type": "code",
   "execution_count": 339,
   "metadata": {},
   "outputs": [],
   "source": [
    "#Sets 4 test arrays of data \n",
    "test_array1 = np.linspace(1, 4, 4) #[1, 2, 3, 4] [theta, shadow_pixels, xdiameter, ydiameter] ydiameter(4) > xdiameter(3)\n",
    "test_array2 = np.linspace(4, 1 ,4) #[4, 3, 2, 1] [theta, shadow_pixels, xdiameter, ydiameter] ydiameter(3) < xdiameter(4)\n",
    "test_array3 = np.linspace(1, 5, 5) #[1, 2, 3, 4, 5] [theta, shadow_pixels, xdiameter, ydiameter, shadow_length]\n",
    "test_array4 = np.linspace(-2, 2, 5) #[-2, -1, 0, 1, 2] array of positive and negative values for half error bars for the first plot"
   ]
  },
  {
   "cell_type": "markdown",
   "metadata": {},
   "source": [
    "### Shadow length test"
   ]
  },
  {
   "cell_type": "code",
   "execution_count": 340,
   "metadata": {},
   "outputs": [],
   "source": [
    "known_answer1 = (4/3)*2*1\n",
    "known_answer2 = 3 * 1\n",
    "#Sets up desired outputs for the shadow function on the first and second test arrays"
   ]
  },
  {
   "cell_type": "code",
   "execution_count": 341,
   "metadata": {},
   "outputs": [
    {
     "name": "stdout",
     "output_type": "stream",
     "text": [
      "Test was successful, known output was 2.6666666666666665 and calculated output was 2.6666666666666665\n"
     ]
    }
   ],
   "source": [
    "test(shadow, test_array1, known_answer1) \n",
    "#Tests the shadow function in the case where y diameter > x diameter so the shadow length is scaled up accordingly "
   ]
  },
  {
   "cell_type": "code",
   "execution_count": 279,
   "metadata": {},
   "outputs": [
    {
     "name": "stdout",
     "output_type": "stream",
     "text": [
      "Test was successful, known output was 3 and calculated output was 3.0\n"
     ]
    }
   ],
   "source": [
    "test(shadow, test_array2, known_answer2)\n",
    "#Tests the shadow function in the case where y diameter < x diameter"
   ]
  },
  {
   "cell_type": "markdown",
   "metadata": {},
   "source": [
    "### Diameter test"
   ]
  },
  {
   "cell_type": "code",
   "execution_count": 280,
   "metadata": {},
   "outputs": [],
   "source": [
    "known_answer3 = 4 * 1 \n",
    "#Sets up the desired output for the diameter function on the first test array"
   ]
  },
  {
   "cell_type": "code",
   "execution_count": 281,
   "metadata": {},
   "outputs": [
    {
     "name": "stdout",
     "output_type": "stream",
     "text": [
      "Test was successful, known output was 4 and calculated output was 4.0\n"
     ]
    }
   ],
   "source": [
    "test(diameter, test_array1, known_answer3) \n",
    "#Tests the diameter function "
   ]
  },
  {
   "cell_type": "markdown",
   "metadata": {},
   "source": [
    "### Depth test"
   ]
  },
  {
   "cell_type": "code",
   "execution_count": 282,
   "metadata": {},
   "outputs": [
    {
     "name": "stdout",
     "output_type": "stream",
     "text": [
      "Test was successful, known output was 0.08727532464 and calculated output was 0.08727532464108792\n"
     ]
    }
   ],
   "source": [
    "known_answer4 = 0.08727532464 #5 * tan(1*pi/180), sets up the desired output for the depth function on the third test array\n",
    "test(depth, test_array3, known_answer4) #tests the depth function"
   ]
  },
  {
   "cell_type": "markdown",
   "metadata": {},
   "source": [
    "### Number of bins test"
   ]
  },
  {
   "cell_type": "code",
   "execution_count": 342,
   "metadata": {},
   "outputs": [
    {
     "name": "stdout",
     "output_type": "stream",
     "text": [
      "Test was successful, known output was 2 and calculated output was 2\n"
     ]
    }
   ],
   "source": [
    "known_answer5 = 2  #2*(4-2)/(4*5^(-1/3)) = 5^(1/3) which rounds to the nearest integer to 2, sets up the desired output for the num_bins function on the third test array\n",
    "test(num_bins, test_array3, known_answer5) #tests the num_bins function"
   ]
  },
  {
   "cell_type": "markdown",
   "metadata": {},
   "source": [
    "### Trimean test"
   ]
  },
  {
   "cell_type": "code",
   "execution_count": 284,
   "metadata": {},
   "outputs": [
    {
     "name": "stdout",
     "output_type": "stream",
     "text": [
      "Test was successful, known output was 3.0 and calculated output was 3.0\n"
     ]
    }
   ],
   "source": [
    "known_answer6 = (2+2*3+4)/4 #sets up the desired output for the trimean function on the third test array\n",
    "test(trimean, test_array3, known_answer6) #tests the trimean function "
   ]
  },
  {
   "cell_type": "markdown",
   "metadata": {},
   "source": [
    "### MAD test"
   ]
  },
  {
   "cell_type": "code",
   "execution_count": 285,
   "metadata": {},
   "outputs": [
    {
     "name": "stdout",
     "output_type": "stream",
     "text": [
      "Test was successful, known output was 1 and calculated output was 1.0\n"
     ]
    }
   ],
   "source": [
    "known_answer7 = 1 #Using test_array3, median = 3, array of modulus of data minus median = [2, 1, 0, 1, 2], median of this array = 1, sets up the desired output for the median absolute deviation function on the third array\n",
    "test(MAD, test_array3, known_answer7) #tests the median absolute deviation function"
   ]
  },
  {
   "cell_type": "markdown",
   "metadata": {},
   "source": [
    "### Asymmetric Error test"
   ]
  },
  {
   "cell_type": "code",
   "execution_count": 286,
   "metadata": {},
   "outputs": [
    {
     "name": "stdout",
     "output_type": "stream",
     "text": [
      "Test was successful, known output was [[-2, -1, 0, 0, 0], [0, 0, 0, 1, 2]] and calculated output was [array([-2., -1.,  0.,  0.,  0.]), array([0., 0., 0., 1., 2.])]\n"
     ]
    }
   ],
   "source": [
    "known_lower_error = [-2, -1, 0, 0, 0] #Using test_array4, lower error values are the same as the test array if test array values are negative and zero if positive\n",
    "known_upper_error = [0, 0, 0, 1, 2] #Upper error values are the same as the test array if test array values are positive and zero if negative\n",
    "known_answer8 = [known_lower_error, known_upper_error] #Known output is a list containing the 2 arrays\n",
    "test(asymmetric_error, test_array4, known_answer8) #Tests the asymmetric error function"
   ]
  },
  {
   "cell_type": "markdown",
   "metadata": {},
   "source": [
    "## Data Analysis"
   ]
  },
  {
   "cell_type": "code",
   "execution_count": 287,
   "metadata": {},
   "outputs": [],
   "source": [
    "datamoon1['Shadow (Metres)'] = datamoon1.apply(shadow, axis=1, raw=True, result_type='expand', args=[1628])\n",
    "#Assigns a new column to the dataframe for the first Moon dataset containing the shadow lengths in metres. Apply method applies a function to a dataframe by passing each row successively as an array to the function. Setting axis to 1 applies the function to each row (rather than column). Setting raw to true means the function is passed each row as an array rather than a series. Setting result type to expand means the list of outputs of the function on each row is converted back into a column of the dataframe. The args list passes 1628 as an additional argument to the function shadow, the pixel to metres scaling factor, 1628 for the Moon. The apply method is passed the function shadow as its first argument so the column 'Shadow (Metres)' is populated with the output of the shadow function on each row of the dataframe in turn "
   ]
  },
  {
   "cell_type": "code",
   "execution_count": 288,
   "metadata": {},
   "outputs": [],
   "source": [
    "datamoon1['Diameter (Metres)'] = datamoon1.apply(diameter, axis=1, raw=True, result_type='expand', args=[1628])\n",
    "#Assigns a new column to the dataframe for the first Moon dataset containing the crater diameters by passing the apply method the diameter function and pixel to metre scaling factor, 1628"
   ]
  },
  {
   "cell_type": "code",
   "execution_count": 289,
   "metadata": {},
   "outputs": [],
   "source": [
    "datamoon1['Depth (Metres)'] = datamoon1.apply(depth, axis=1, raw=True, result_type='expand')\n",
    "#Assigns a new column to the dataframe for the first Moon dataset containing the crater depths by passing the apply method the depth function"
   ]
  },
  {
   "cell_type": "code",
   "execution_count": 290,
   "metadata": {},
   "outputs": [],
   "source": [
    "datamoon1['Real Diameter (Metres)'] = datamoon2[' Real diameter (km)']*1000\n",
    "#Assigns a new column to the dataframe for the first Moon dataset containing the actual crater diameters using the validated measurements from the second Moon dataset, converting from km to m"
   ]
  },
  {
   "cell_type": "code",
   "execution_count": 291,
   "metadata": {},
   "outputs": [],
   "source": [
    "datamoon1['Real Depth (Metres)'] = datamoon2[' Real Depth (km)']*1000\n",
    "#Assigns a new column to the dataframe for the first Moon dataset containing the actual crater depths using the validated measurements from the second Moon dataset, converting from km to m"
   ]
  },
  {
   "cell_type": "code",
   "execution_count": 292,
   "metadata": {},
   "outputs": [],
   "source": [
    "datamoon1['Depth Error (Metres)'] = datamoon1['Real Depth (Metres)'] - datamoon1['Depth (Metres)']\n",
    "#Assigns a new column to the dataframe for the first Moon dataset containing error in the calculated values for the crater depths by finding the difference between the validated and calculated measurements"
   ]
  },
  {
   "cell_type": "code",
   "execution_count": 293,
   "metadata": {},
   "outputs": [],
   "source": [
    "datamoon1['Diameter Error (Metres)'] = datamoon1['Real Diameter (Metres)'] - datamoon1['Diameter (Metres)']\n",
    "#Assigns a new column to the dataframe for the first Moon dataset containing error in the calculated values for the crater diameters by finding the difference between the validated and calculated measurements"
   ]
  },
  {
   "cell_type": "code",
   "execution_count": 294,
   "metadata": {},
   "outputs": [],
   "source": [
    "datamoon1['Depth Error (%)'] = (abs(datamoon1['Depth Error (Metres)']) / datamoon1['Real Depth (Metres)'])*100\n",
    "#Assigns a new column to the dataframe for the first Moon dataset containing % error in the calculated values for the crater depths by dividing the magnitude of the depth error by the validated measurement and multiplying by 100"
   ]
  },
  {
   "cell_type": "code",
   "execution_count": 295,
   "metadata": {},
   "outputs": [],
   "source": [
    "datamoon1['Diameter Error (%)'] = (abs(datamoon1['Diameter Error (Metres)']) / datamoon1['Real Diameter (Metres)'])*100\n",
    "#Assigns a new column to the dataframe for the first Moon dataset containing % error in the calculated values for the crater diameters by dividing the magnitude of the diameter error by the validated measurement and multiplying by 100"
   ]
  },
  {
   "cell_type": "code",
   "execution_count": 296,
   "metadata": {},
   "outputs": [],
   "source": [
    "depth_error_std = np.std(datamoon1['Depth Error (%)']) \n",
    "#Calculates the standard deviation in the depth errors"
   ]
  },
  {
   "cell_type": "code",
   "execution_count": 297,
   "metadata": {},
   "outputs": [],
   "source": [
    "diameter_error_std = np.std(datamoon1['Diameter Error (%)']) \n",
    "#Calculates the standard deviation in the diameter errors"
   ]
  },
  {
   "cell_type": "code",
   "execution_count": 298,
   "metadata": {},
   "outputs": [],
   "source": [
    "databody1['Shadow (Metres)'] = databody1.apply(shadow, axis=1, raw=True, result_type='expand', args=[177])\n",
    "#Assigns a new column to the dataframe for the unknown body dataset containing the shadow lengths by passing the apply method the shadow function and pixel to metre scaling factor, 177"
   ]
  },
  {
   "cell_type": "code",
   "execution_count": 299,
   "metadata": {},
   "outputs": [],
   "source": [
    "databody1['Diameter (Metres)'] = databody1.apply(diameter, axis=1, raw=True, result_type='expand', args=[177])\n",
    "#Assigns a new column to the dataframe for the unknown body dataset containing the crater diameters by passing the apply method the diameter function and pixel to metre scaling factor, 177"
   ]
  },
  {
   "cell_type": "code",
   "execution_count": 300,
   "metadata": {},
   "outputs": [],
   "source": [
    "databody1['Depth (Metres)'] = databody1.apply(depth, axis=1, raw=True, result_type='expand')\n",
    "#Assigns a new column to the dataframe for the unknown body dataset containing the crater depths by passing the apply method the depth function"
   ]
  },
  {
   "cell_type": "code",
   "execution_count": 301,
   "metadata": {},
   "outputs": [],
   "source": [
    "databody1['Depth Error (Metres)'] = databody1['Depth (Metres)'] * ((2*depth_error_std)/100)\n",
    "#Assigns a new column to the dataframe for the unknown body dataset containing the errors in the depth measurements by multiplying the calculated depth by 2 standard deviations in the % error of the calculated depth measurements for the Moon dataset / 100"
   ]
  },
  {
   "cell_type": "code",
   "execution_count": 302,
   "metadata": {},
   "outputs": [],
   "source": [
    "databody1['Diameter Error (Metres)'] = databody1['Diameter (Metres)'] * ((2*diameter_error_std)/100)\n",
    "#Assigns a new column to the dataframe for the unknown body dataset containing the errors in the diameter measurements by multiplying the calculated diameter by 2 standard deviations in the % error of the calculated diameter measurements for the Moon dataset / 100"
   ]
  },
  {
   "cell_type": "markdown",
   "metadata": {},
   "source": [
    "# Data plots"
   ]
  },
  {
   "cell_type": "markdown",
   "metadata": {},
   "source": [
    "## Depth vs Diameter"
   ]
  },
  {
   "cell_type": "code",
   "execution_count": 303,
   "metadata": {},
   "outputs": [],
   "source": [
    "linreg1 = ss.linregress(datamoon1['Diameter (Metres)'], datamoon1['Depth (Metres)'])\n",
    "#Takes the linear regression of calculated depth against calculated diameter for craters on the Moon\n",
    "linreg2 = ss.linregress(databody1['Diameter (Metres)'], databody1['Depth (Metres)'])\n",
    "#Takes the linear regression of calculated depth against calculated diameter for craters on the unknown body"
   ]
  },
  {
   "cell_type": "code",
   "execution_count": 345,
   "metadata": {
    "scrolled": false
   },
   "outputs": [
    {
     "data": {
      "image/png": "[encoded data removed]",
      "text/plain": [
       "<Figure size 1080x1080 with 1 Axes>"
      ]
     },
     "metadata": {
      "needs_background": "light"
     },
     "output_type": "display_data"
    }
   ],
   "source": [
    "plt.figure(figsize = (15,15)) \n",
    "#Plots a figure of specified size\n",
    "plt.scatter(datamoon1['Diameter (Metres)'], datamoon1['Depth (Metres)'], c = 'g')\n",
    "#Plots a scatter graph of calculated depth against calculated diameter for craters on the Moon, of colour green\n",
    "plt.scatter(databody1['Diameter (Metres)'], databody1['Depth (Metres)'], c = 'r')\n",
    "#Plots a scatter graph of calculated depth against calculated diameter for craters on the unknown body, of colour red\n",
    "\n",
    "plt.xlabel('Diameter (Metres)') \n",
    "#Sets the x axis label\n",
    "plt.ylabel('Depth (Metres)') \n",
    "#Sets the y axis label \n",
    "plt.title('Crater depth vs diameter') \n",
    "#Sets the title \n",
    "\n",
    "plt.plot(datamoon1['Diameter (Metres)'], (linreg1[0]*datamoon1['Diameter (Metres)'] + linreg1[1]), c = 'g')\n",
    "#Plots a line of best fit for calculated depth against calculated diameter for craters on the Moon\n",
    "plt.plot(databody1['Diameter (Metres)'], (linreg2[0]*databody1['Diameter (Metres)'] + linreg2[1]), c = 'r')\n",
    "#Plots a line of best fit for calculated depth against calculated diameter for craters on the unknown body\n",
    "\n",
    "y_err1 = asymmetric_error(datamoon1['Depth Error (Metres)']) \n",
    "#Sets the one-sided error in y for the Moon craters\n",
    "x_err1 = asymmetric_error(datamoon1['Diameter Error (Metres)']) \n",
    "#Sets the one-sided error in x for the Moon craters\n",
    "y_err2 = databody1['Depth Error (Metres)']\n",
    "#Sets the error in y for the unknown body craters\n",
    "x_err2 = databody1['Diameter Error (Metres)']\n",
    "#Sets the error in x for the unknown body craters\n",
    "\n",
    "plt.errorbar(datamoon1['Diameter (Metres)'],datamoon1['Depth (Metres)'], xerr = x_err1, yerr=y_err1,fmt='o', ecolor = 'g', capsize=3,alpha=0.7, c = 'g')\n",
    "#Plots x and y axis error bars for the Moon craters\n",
    "plt.errorbar(databody1['Diameter (Metres)'],databody1['Depth (Metres)'], xerr = x_err2, yerr=y_err2,fmt='o', ecolor = 'r', capsize=3,alpha=0.7, c = 'r')\n",
    "#Plots x and y axis error bars for the unknown body craters\n",
    "#fmt = 'o' plots datapoints as circles, ecolor sets the colour of the error bars, capsize defines the size of error bar caps, alpha sets the extent of colour blending between plotted data\n",
    "\n",
    "plt.legend(['Moon (calculated)', 'Body']) \n",
    "#Creates a legend, labelling the 2 plotted datasets\n",
    "\n",
    "plt.rcParams.update({'font.size': 35}) \n",
    "#Changes font size to 35"
   ]
  },
  {
   "cell_type": "markdown",
   "metadata": {},
   "source": [
    "## Error in depth estimation vs theta"
   ]
  },
  {
   "cell_type": "code",
   "execution_count": 305,
   "metadata": {},
   "outputs": [],
   "source": [
    "linreg3 = ss.linregress(datamoon1['Theta'], datamoon1['Depth Error (%)'])\n",
    "#Takes the linear regression of % error in calculated depth against angle of illumination for craters on the Moon"
   ]
  },
  {
   "cell_type": "code",
   "execution_count": 325,
   "metadata": {},
   "outputs": [
    {
     "data": {
      "image/png": "[encoded data removed]",
      "text/plain": [
       "<Figure size 432x288 with 1 Axes>"
      ]
     },
     "metadata": {
      "needs_background": "light"
     },
     "output_type": "display_data"
    }
   ],
   "source": [
    "plt.figure()\n",
    "plt.scatter(datamoon1['Theta'], datamoon1['Depth Error (%)']) \n",
    "#Plots % error in calculated depth against angle of illumination for craters on the Moon\n",
    "plt.plot(datamoon1['Theta'], (linreg3[0]*datamoon1['Theta'] + linreg3[1])) \n",
    "#Plots a line of best fit for % error in calculated depth against angle of illumination for craters on the Moon\n",
    "plt.xlabel(r'$\\theta (^\\circ)$') \n",
    "#Sets the x axis label\n",
    "plt.ylabel('Error (%)') \n",
    "#Sets the y axis label \n",
    "plt.title(r'Error in depth estimation against $\\theta(^\\circ)$') \n",
    "#Sets the title \n",
    "plt.rcParams.update({'font.size': 15}) \n",
    "#Changes font size to 15"
   ]
  },
  {
   "cell_type": "markdown",
   "metadata": {},
   "source": [
    "## Depth and diameter distributions"
   ]
  },
  {
   "cell_type": "code",
   "execution_count": 324,
   "metadata": {},
   "outputs": [
    {
     "data": {
      "text/plain": [
       "<Figure size 432x288 with 0 Axes>"
      ]
     },
     "metadata": {},
     "output_type": "display_data"
    },
    {
     "data": {
      "image/png": "[encoded data removed]",
      "text/plain": [
       "<Figure size 1656x1440 with 4 Axes>"
      ]
     },
     "metadata": {
      "needs_background": "light"
     },
     "output_type": "display_data"
    }
   ],
   "source": [
    "plt.figure()\n",
    "fig, axes = plt.subplots(nrows=2, ncols=2, figsize = (23,20)) \n",
    "#Sets up a 2 by 2 set of 4 subplots and specifies overall figure size\n",
    "hplot1 = axes[0][0].hist(datamoon1['Depth (Metres)'], density=True, bins=num_bins(datamoon1['Depth (Metres)']))\n",
    "#Sets the first subplot (top-left) to a histogram plot of calculate crater depths for the Moon using a number of bins as calculated using the num_bins function\n",
    "hplot2 = axes[0][1].hist(databody1['Depth (Metres)'], density=True, bins=num_bins(databody1['Depth (Metres)']))\n",
    "#Sets the second subplot (top-right) to a histogram plot of calculate crater depths for the unknown body using a number of bins as calculated using the num_bins function\n",
    "hplot3 = axes[1][0].hist(datamoon1['Diameter (Metres)'], density=True, bins=num_bins(datamoon1['Diameter (Metres)']))\n",
    "#Sets the third subplot (bottom-left) to a histogram plot of calculate crater diameters for the Moon using a number of bins as calculated using the num_bins function\n",
    "hplot4 = axes[1][1].hist(databody1['Diameter (Metres)'], density=True, bins=num_bins(databody1['Diameter (Metres)']))\n",
    "#Sets the fourth subplot (bottom-right) to a histogram plot of calculate crater diameters for the unknown body using a number of bins as calculated using the num_bins function\n",
    "\n",
    "axes[0][0].set_ylabel('Frequency density')\n",
    "axes[0][0].set_xlabel('Depth (Metres)')\n",
    "axes[0][0].set_title('Depths of craters on the Moon')\n",
    "#Sets the x axis and y axis labels and title for the first subplot (top-left)\n",
    "\n",
    "axes[0][1].set_ylabel('Frequency density')\n",
    "axes[0][1].set_xlabel('Depth (Metres)')\n",
    "axes[0][1].set_title('Depths of craters on the unknown body')\n",
    "#Sets the x axis and y axis labels and title for the second subplot (top-right)\n",
    "\n",
    "axes[1][0].set_ylabel('Frequency density')\n",
    "axes[1][0].set_xlabel('Diameter (Metres)')\n",
    "axes[1][0].set_title('Diameters of craters on the Moon')\n",
    "#Sets the x axis and y axis labels and title for the third subplot (bottom-left)\n",
    "\n",
    "axes[1][1].set_ylabel('Frequency density')\n",
    "axes[1][1].set_xlabel('Diameter (Metres)')\n",
    "axes[1][1].set_title('Diameters of craters on the unknown body')\n",
    "#Sets the x axis and y axis labels and title for the fourth subplot (bottom-right)\n",
    "plt.rcParams.update({'font.size': 20}) \n",
    "#Changes font size to 20"
   ]
  },
  {
   "cell_type": "markdown",
   "metadata": {},
   "source": [
    "# Statistical Analysis"
   ]
  },
  {
   "cell_type": "markdown",
   "metadata": {},
   "source": [
    "## Measures of central tendency "
   ]
  },
  {
   "cell_type": "code",
   "execution_count": 308,
   "metadata": {},
   "outputs": [
    {
     "data": {
      "text/plain": [
       "(2763.7774947611624, 2675.5327066769796, 2662.7871133299996)"
      ]
     },
     "execution_count": 308,
     "metadata": {},
     "output_type": "execute_result"
    }
   ],
   "source": [
    "array_location(datamoon1['Depth (Metres)'])\n",
    "#Calculates the mean, median and trimean for the calculated crater depths for the Moon"
   ]
  },
  {
   "cell_type": "code",
   "execution_count": 309,
   "metadata": {},
   "outputs": [
    {
     "data": {
      "text/plain": [
       "(1993.3738613590017, 1592.4989297958232, 1702.5576214992525)"
      ]
     },
     "execution_count": 309,
     "metadata": {},
     "output_type": "execute_result"
    }
   ],
   "source": [
    "array_location(databody1['Depth (Metres)'])\n",
    "#Calculates the mean, median and trimean for the calculated crater depths for the unknown body"
   ]
  },
  {
   "cell_type": "code",
   "execution_count": 310,
   "metadata": {},
   "outputs": [
    {
     "data": {
      "text/plain": [
       "(39829.862068965514, 34188.0, 34595.0)"
      ]
     },
     "execution_count": 310,
     "metadata": {},
     "output_type": "execute_result"
    }
   ],
   "source": [
    "array_location(datamoon1['Diameter (Metres)'])\n",
    "#Calculates the mean, median and trimean for the calculated crater diameters for the Moon"
   ]
  },
  {
   "cell_type": "code",
   "execution_count": 311,
   "metadata": {},
   "outputs": [
    {
     "data": {
      "text/plain": [
       "(6252.982758620689, 5575.5, 5785.6875)"
      ]
     },
     "execution_count": 311,
     "metadata": {},
     "output_type": "execute_result"
    }
   ],
   "source": [
    "array_location(databody1['Diameter (Metres)'])\n",
    "#Calculates the mean, median and trimean for the calculated crater diameters for the unknown body"
   ]
  },
  {
   "cell_type": "markdown",
   "metadata": {},
   "source": [
    "## Measures of spread"
   ]
  },
  {
   "cell_type": "code",
   "execution_count": 312,
   "metadata": {},
   "outputs": [
    {
     "data": {
      "text/plain": [
       "(1298.241699901699, 1407.1833568239592, 714.5995735084128)"
      ]
     },
     "execution_count": 312,
     "metadata": {},
     "output_type": "execute_result"
    }
   ],
   "source": [
    "array_spread(datamoon1['Depth (Metres)'])\n",
    "#Calculates the standard deviation, interquartile range and median absolute deviation for the calculated crater depths for the Moon"
   ]
  },
  {
   "cell_type": "code",
   "execution_count": 313,
   "metadata": {},
   "outputs": [
    {
     "data": {
      "text/plain": [
       "(1456.5241183674025, 1975.4228546754089, 838.5643662885739)"
      ]
     },
     "execution_count": 313,
     "metadata": {},
     "output_type": "execute_result"
    }
   ],
   "source": [
    "array_spread(databody1['Depth (Metres)'])\n",
    "#Calculates the standard deviation, interquartile range and median absolute deviation for the calculated crater depths for the unknown body"
   ]
  },
  {
   "cell_type": "code",
   "execution_count": 314,
   "metadata": {},
   "outputs": [
    {
     "data": {
      "text/plain": [
       "(26344.918570072175, 20350.0, 10582.0)"
      ]
     },
     "execution_count": 314,
     "metadata": {},
     "output_type": "execute_result"
    }
   ],
   "source": [
    "array_spread(datamoon1['Diameter (Metres)'])\n",
    "#Calculates the standard deviation, interquartile range and median absolute deviation for the calculated crater diameters for the Moon"
   ]
  },
  {
   "cell_type": "code",
   "execution_count": 315,
   "metadata": {},
   "outputs": [
    {
     "data": {
      "text/plain": [
       "(3253.671795813946, 3672.75, 1593.0)"
      ]
     },
     "execution_count": 315,
     "metadata": {},
     "output_type": "execute_result"
    }
   ],
   "source": [
    "array_spread(databody1['Diameter (Metres)'])\n",
    "#Calculates the standard deviation, interquartile range and median absolute deviation for the calculated crater diameters for the unknown body"
   ]
  },
  {
   "cell_type": "markdown",
   "metadata": {},
   "source": [
    "## Investigation of errors"
   ]
  },
  {
   "cell_type": "code",
   "execution_count": 316,
   "metadata": {},
   "outputs": [
    {
     "data": {
      "text/plain": [
       "(13.374695455120921, 7.359036027449307, 8.37991613263077)"
      ]
     },
     "execution_count": 316,
     "metadata": {},
     "output_type": "execute_result"
    }
   ],
   "source": [
    "array_location(datamoon1['Depth Error (%)'])\n",
    "#Calculates the mean, median and trimean for the errors in the calculated crater depths for the Moon"
   ]
  },
  {
   "cell_type": "code",
   "execution_count": 317,
   "metadata": {},
   "outputs": [
    {
     "data": {
      "text/plain": [
       "(3.33274338938406, 2.3257142857142856, 2.7544390246520063)"
      ]
     },
     "execution_count": 317,
     "metadata": {},
     "output_type": "execute_result"
    }
   ],
   "source": [
    "array_location(datamoon1['Diameter Error (%)'])\n",
    "#Calculates the mean, median and trimean for the errors in the calculated crater diameters for the Moon"
   ]
  },
  {
   "cell_type": "code",
   "execution_count": 318,
   "metadata": {},
   "outputs": [
    {
     "data": {
      "text/plain": [
       "(17.678034910463655, 11.643888355911708, 5.069936230995994)"
      ]
     },
     "execution_count": 318,
     "metadata": {},
     "output_type": "execute_result"
    }
   ],
   "source": [
    "array_spread(datamoon1['Depth Error (%)'])\n",
    "#Calculates the standard deviation, interquartile range and median absolute deviation for the errors in the calculated crater depths for the Moon"
   ]
  },
  {
   "cell_type": "code",
   "execution_count": 319,
   "metadata": {},
   "outputs": [
    {
     "data": {
      "text/plain": [
       "(2.736039775509572, 4.269775803041522, 1.9543817527010805)"
      ]
     },
     "execution_count": 319,
     "metadata": {},
     "output_type": "execute_result"
    }
   ],
   "source": [
    "array_spread(datamoon1['Diameter Error (%)'])\n",
    "#Calculates the standard deviation, interquartile range and median absolute deviation for the errors in the calculated crater diameters for the Moon"
   ]
  },
  {
   "cell_type": "code",
   "execution_count": 320,
   "metadata": {},
   "outputs": [
    {
     "data": {
      "text/plain": [
       "(-0.2574899256022217, 0.05101689053044173)"
      ]
     },
     "execution_count": 320,
     "metadata": {},
     "output_type": "execute_result"
    }
   ],
   "source": [
    "ss.pearsonr(datamoon1['Theta'], datamoon1['Depth Error (%)'])\n",
    "#Calculates the pmcc for the linear correlation between angle of illumination and error in the calculated crater depths for the Moon. The first value given is the r value for the linear correlation and the second is the probability that a correlation of this strength could arise randomly for the number of datapoints of the dataset"
   ]
  },
  {
   "cell_type": "code",
   "execution_count": 321,
   "metadata": {},
   "outputs": [
    {
     "data": {
      "text/plain": [
       "(0.6691940968572258, 9.328151297584905e-09)"
      ]
     },
     "execution_count": 321,
     "metadata": {},
     "output_type": "execute_result"
    }
   ],
   "source": [
    "ss.pearsonr(datamoon1['Depth (Metres)'], datamoon1['Depth Error (%)'])\n",
    "#Calculates the pmcc for the linear correlation between calculated crater depth and error in the calculated crater depths for the Moon. The first value given is the r value for the linear correlation and the second is the probability that a correlation of this strength could arise randomly for the number of datapoints of the dataset"
   ]
  },
  {
   "cell_type": "code",
   "execution_count": 322,
   "metadata": {},
   "outputs": [],
   "source": [
    "datamoon1_sorted = datamoon1.sort_values('Depth (Metres)', ascending = True)\n",
    "#Sorts rows of Moon crater dataframe by ascending values of the calculated crater depths"
   ]
  },
  {
   "cell_type": "code",
   "execution_count": 323,
   "metadata": {},
   "outputs": [
    {
     "data": {
      "text/plain": [
       "8.77666122451377"
      ]
     },
     "execution_count": 323,
     "metadata": {},
     "output_type": "execute_result"
    }
   ],
   "source": [
    "datamoon1_sorted['Depth Error (%)'].iloc[0:50].mean()\n",
    "#Finds the mean percentage error in the calculated crater depths for the first 50 craters, arranged in order of ascending values of the calculated crater depths"
   ]
  }
 ],
 "metadata": {
  "kernelspec": {
   "display_name": "Python 3",
   "language": "python",
   "name": "python3"
  },
  "language_info": {
   "codemirror_mode": {
    "name": "ipython",
    "version": 3
   },
   "file_extension": ".py",
   "mimetype": "text/x-python",
   "name": "python",
   "nbconvert_exporter": "python",
   "pygments_lexer": "ipython3",
   "version": "3.8.3"
  }
 },
 "nbformat": 4,
 "nbformat_minor": 4
}
