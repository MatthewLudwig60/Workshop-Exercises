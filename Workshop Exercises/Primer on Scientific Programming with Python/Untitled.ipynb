{
 "cells": [
  {
   "cell_type": "code",
   "execution_count": 1,
   "metadata": {},
   "outputs": [
    {
     "name": "stdout",
     "output_type": "stream",
     "text": [
      "hello world\n"
     ]
    }
   ],
   "source": [
    "print('hello world')"
   ]
  },
  {
   "cell_type": "code",
   "execution_count": 2,
   "metadata": {},
   "outputs": [
    {
     "name": "stdin",
     "output_type": "stream",
     "text": [
      "Player 1, what is your word? dog\n"
     ]
    },
    {
     "name": "stdout",
     "output_type": "stream",
     "text": [
      "['d', 'o', 'g']\n"
     ]
    },
    {
     "name": "stdin",
     "output_type": "stream",
     "text": [
      "Are you ready player 2? y\n"
     ]
    },
    {
     "name": "stdout",
     "output_type": "stream",
     "text": [
      "['_', '_', '_']\n"
     ]
    },
    {
     "name": "stdin",
     "output_type": "stream",
     "text": [
      "What is your guess player 2? d\n"
     ]
    },
    {
     "name": "stdout",
     "output_type": "stream",
     "text": [
      "['d', '_', '_']\n",
      "Guesses remaining: 10\n",
      "You have guessed:\n",
      "['d']\n"
     ]
    },
    {
     "name": "stdin",
     "output_type": "stream",
     "text": [
      "What is your guess player 2? o\n"
     ]
    },
    {
     "name": "stdout",
     "output_type": "stream",
     "text": [
      "['d', 'o', '_']\n",
      "Guesses remaining: 9\n",
      "You have guessed:\n",
      "['d', 'o']\n"
     ]
    },
    {
     "name": "stdin",
     "output_type": "stream",
     "text": [
      "What is your guess player 2? g\n"
     ]
    },
    {
     "name": "stdout",
     "output_type": "stream",
     "text": [
      "['d', 'o', 'g']\n",
      "Guesses remaining: 8\n",
      "You have guessed:\n",
      "['d', 'o', 'g']\n",
      "You win\n",
      "You win\n"
     ]
    }
   ],
   "source": [
    "def split(word):\n",
    "    return[char for char in word]\n",
    "word = (input('Player 1, what is your word?'))\n",
    "letters = split(word)\n",
    "print(letters)\n",
    "status = False\n",
    "while status == False:\n",
    "    readiness = input('Are you ready player 2?')\n",
    "    if readiness == 'Yes' or readiness == 'yes' or readiness == 'Y' or readiness == 'y':\n",
    "        status = True\n",
    "    else:\n",
    "        status = False\n",
    "answer = []\n",
    "for i in range(0, (len(letters))):\n",
    "    answer.append('_')\n",
    "print(answer)\n",
    "guesses_remaining = len(letters) + 8\n",
    "victory_state = False\n",
    "guessed_letters = []\n",
    "while guesses_remaining > 0:    \n",
    "    if victory_state == True:\n",
    "        print('You win')\n",
    "        break \n",
    "    else:\n",
    "        guess = input('What is your guess player 2?')\n",
    "        guessed_before_state = 0\n",
    "        for i in range(0, len(guessed_letters)):\n",
    "            if guess == guessed_letters[i]:\n",
    "                guessed_before_state = guessed_before_state + 1\n",
    "        if guessed_before_state > 0:\n",
    "            print('You have already guessed this letter, guess again!')\n",
    "        else:\n",
    "            guessed_letters.append(guess)\n",
    "            guess_state = 0\n",
    "            for i in range(0, (len(letters))):\n",
    "                if guess == letters[i]:\n",
    "                    letters.pop(i)\n",
    "                    letters.insert(i, '_')\n",
    "                    answer.pop(i)\n",
    "                    answer.insert(i, guess)\n",
    "                    print(answer)\n",
    "                    guess_state = guess_state + 1\n",
    "            if guess_state == 0:\n",
    "                print('Sorry, that is incorrect')\n",
    "            guessed_counter = 0    \n",
    "            for i in range(0, len(letters)):\n",
    "                if letters[i] == '_':\n",
    "                    guessed_counter = guessed_counter + 1\n",
    "                else:\n",
    "                    guessed_counter = guessed_counter\n",
    "            if guessed_counter == len(letters):\n",
    "                victory_state = True\n",
    "            guesses_remaining = guesses_remaining - 1\n",
    "            print('Guesses remaining: ' + str(guesses_remaining))\n",
    "            print('You have guessed:')\n",
    "            print(guessed_letters)\n",
    "if victory_state == True:\n",
    "    print('You win')\n",
    "if guesses_remaining == 0 and victory_state == False:\n",
    "    print('You lose!')"
   ]
  },
  {
   "cell_type": "code",
   "execution_count": 3,
   "metadata": {},
   "outputs": [],
   "source": [
    "from numpy import *"
   ]
  },
  {
   "cell_type": "code",
   "execution_count": 5,
   "metadata": {},
   "outputs": [
    {
     "ename": "ModuleNotFoundError",
     "evalue": "No module named 'matpltlib'",
     "output_type": "error",
     "traceback": [
      "\u001b[0;31m---------------------------------------------------------------------------\u001b[0m",
      "\u001b[0;31mModuleNotFoundError\u001b[0m                       Traceback (most recent call last)",
      "\u001b[0;32m<ipython-input-5-374d84cb3234>\u001b[0m in \u001b[0;36m<module>\u001b[0;34m\u001b[0m\n\u001b[0;32m----> 1\u001b[0;31m \u001b[0;32mimport\u001b[0m \u001b[0mmatpltlib\u001b[0m\u001b[0;34m\u001b[0m\u001b[0;34m\u001b[0m\u001b[0m\n\u001b[0m",
      "\u001b[0;31mModuleNotFoundError\u001b[0m: No module named 'matpltlib'"
     ]
    }
   ],
   "source": [
    "import matpltlib"
   ]
  },
  {
   "cell_type": "code",
   "execution_count": null,
   "metadata": {},
   "outputs": [],
   "source": []
  }
 ],
 "metadata": {
  "kernelspec": {
   "display_name": "Python 3",
   "language": "python",
   "name": "python3"
  },
  "language_info": {
   "codemirror_mode": {
    "name": "ipython",
    "version": 3
   },
   "file_extension": ".py",
   "mimetype": "text/x-python",
   "name": "python",
   "nbconvert_exporter": "python",
   "pygments_lexer": "ipython3",
   "version": "3.8.3"
  }
 },
 "nbformat": 4,
 "nbformat_minor": 4
}
